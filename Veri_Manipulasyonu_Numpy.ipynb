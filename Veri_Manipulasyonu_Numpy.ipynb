{
 "cells": [
  {
   "cell_type": "markdown",
   "id": "f4a78123-e16e-4ec9-ba3e-c4ce03500e7f",
   "metadata": {},
   "source": [
    "# __Numpy(Numerical Python)__\n",
    "* _Bilimsel hesaplamalar için kullanılır_\n",
    "* _Arrayler/çok boyutlu arrayler ve matrisler üzerinde yüksek performanslı çalışma imkanı sağlar_\n",
    "* _Temelleri 1995'de (Guido Van Rossum) atılmış nihai olarak 2005 yılında(Travis Oliphant) yılında hayata geçirilmiştir_\n",
    "* _Listelere benzerdir farkı;verimli veri saklama ve vektörel operasyonlardır_\n",
    "* _Listelerde 3 tane int değer olsun ,listeler yapısı itibariyle her eleman aynı tipte olsa da her birisi için ayrı ayrı tip bilgisi tutar.Numpy arrayleri için kullanıcak veri tipleri arasında bir fark yoktur .İçinde tutuğu verileri fix type yani sabitlenmiş tipe zorluyor_ \n",
    "* _Arrayler ,listelerde olduğu gibi 3 int değeri için 3 tip bilgisi tutmak yerine sadece 1 tane tip bilgisi tutar bu şekilde veri saklama alanında ciddi bir avantaj sağlıyor_\n",
    "* _Arrayleri diğer avantajı vektörel operasyonlardır_"
   ]
  },
  {
   "cell_type": "markdown",
   "id": "d86d77cb-0430-40c1-8fe7-8c4573311103",
   "metadata": {},
   "source": [
    "\n",
    "\n",
    "##  __Klavye Kısayolları__\n",
    "* _Hücre dılında:ctrl+c,x,v_\n",
    "* _Hücre içinde :c,x,v_\n"
   ]
  },
  {
   "cell_type": "markdown",
   "id": "10ac68fe-0e73-4185-bff0-ed26946791a8",
   "metadata": {},
   "source": [
    "_Kütüphaneleri daha derli toplu görmek istiyorsak :kütüphane adı cheat sheet şeklinde arat_"
   ]
  },
  {
   "cell_type": "code",
   "execution_count": 2,
   "id": "88f9a9a4-802d-4dfc-985b-43c55dc2bd10",
   "metadata": {},
   "outputs": [],
   "source": [
    "#numpy kütüphanesini içe aktar\n",
    "import numpy as np"
   ]
  },
  {
   "cell_type": "code",
   "execution_count": 3,
   "id": "64644079-02ec-4fa9-aa7f-9a7bb2c4e084",
   "metadata": {},
   "outputs": [],
   "source": [
    "list_1=[1,2,3,4]\n",
    "list_2=[2,3,4,5]"
   ]
  },
  {
   "cell_type": "markdown",
   "id": "efda1741-395d-48dc-91cf-87973defe645",
   "metadata": {},
   "source": [
    "_Bu iki listeyi çarpmak istersek_"
   ]
  },
  {
   "cell_type": "markdown",
   "id": "f0ced401-433e-4f53-bd15-4b581428e49a",
   "metadata": {},
   "source": [
    "_Nesne yönelimli programlama ile çarpma işlemini gerçekleştirirsek_"
   ]
  },
  {
   "cell_type": "code",
   "execution_count": 4,
   "id": "746834c5-2844-4ee2-a2d7-06298401dabc",
   "metadata": {},
   "outputs": [
    {
     "name": "stdout",
     "output_type": "stream",
     "text": [
      "[2, 6, 12, 20]\n"
     ]
    }
   ],
   "source": [
    "ab=[]\n",
    "for i in range(0,len(list_1)):\n",
    "    ab.append(list_1[i]*list_2[i])\n",
    "print(ab)"
   ]
  },
  {
   "cell_type": "markdown",
   "id": "db1d9a2d-7b62-45b0-8a27-0792ba7ab46e",
   "metadata": {},
   "source": [
    "_Numpy arrayleri ile vektörel çarpım yapılırsa_"
   ]
  },
  {
   "cell_type": "code",
   "execution_count": 5,
   "id": "3236f6de-deeb-47da-abcb-daee541bd8b6",
   "metadata": {},
   "outputs": [
    {
     "name": "stdout",
     "output_type": "stream",
     "text": [
      "[ 2  6 12 20]\n"
     ]
    },
    {
     "data": {
      "text/plain": [
       "array([ 2,  6, 12, 20])"
      ]
     },
     "execution_count": 5,
     "metadata": {},
     "output_type": "execute_result"
    }
   ],
   "source": [
    "array_1=np.array(list_1)#listenin numpy arrayine dönüştürülmesi\n",
    "array_2=np.array(list_2)\n",
    "print(array_1*array_2)\n",
    "(array_1*array_2)"
   ]
  },
  {
   "cell_type": "markdown",
   "id": "cdae2f67-f397-4c3f-8375-cf041e9d7617",
   "metadata": {},
   "source": [
    "## __Numpy Array'i Oluşturmak__\n"
   ]
  },
  {
   "cell_type": "code",
   "execution_count": 6,
   "id": "91322abf-b779-4691-b1b3-d33167147a5c",
   "metadata": {},
   "outputs": [],
   "source": [
    "list_3=[12,34,13,11]\n",
    "array_3=np.array(list_3)\n",
    "array_4=np.array([12,34,13,11])"
   ]
  },
  {
   "cell_type": "code",
   "execution_count": 7,
   "id": "a2d55b04-4ac3-4db0-a837-4c41a9522bd3",
   "metadata": {},
   "outputs": [
    {
     "name": "stdout",
     "output_type": "stream",
     "text": [
      "<class 'numpy.ndarray'>\n"
     ]
    },
    {
     "data": {
      "text/plain": [
       "array([12, 34, 13, 11])"
      ]
     },
     "execution_count": 7,
     "metadata": {},
     "output_type": "execute_result"
    }
   ],
   "source": [
    "print(type(array_3))\n",
    "array_3"
   ]
  },
  {
   "cell_type": "code",
   "execution_count": 8,
   "id": "b48d37a6-3152-4642-a00b-d1ca8a8ead70",
   "metadata": {},
   "outputs": [
    {
     "data": {
      "text/plain": [
       "array([ 3.14,  4.  ,  2.  , 13.  ])"
      ]
     },
     "execution_count": 8,
     "metadata": {},
     "output_type": "execute_result"
    }
   ],
   "source": [
    "np.array([3.14,4,2,13])#tüm tipler tek tipleştirldi"
   ]
  },
  {
   "cell_type": "code",
   "execution_count": 9,
   "id": "6d36c788-f171-476c-a9b8-10a7c7e5b40c",
   "metadata": {},
   "outputs": [
    {
     "data": {
      "text/plain": [
       "array([ 3, 14,  4,  2, 13])"
      ]
     },
     "execution_count": 9,
     "metadata": {},
     "output_type": "execute_result"
    }
   ],
   "source": [
    "np.array([3,14,4,2,13],dtype=\"int\")#tipi dışarıdan özelleştirebiliriz"
   ]
  },
  {
   "cell_type": "code",
   "execution_count": 10,
   "id": "73fd59db-ab60-48ba-b1b7-17a35b2af1ba",
   "metadata": {},
   "outputs": [
    {
     "data": {
      "text/plain": [
       "array([ 3., 14.,  4.,  2., 13.], dtype=float32)"
      ]
     },
     "execution_count": 10,
     "metadata": {},
     "output_type": "execute_result"
    }
   ],
   "source": [
    "np.array([3,14,4,2,13],dtype=\"float32\")"
   ]
  },
  {
   "cell_type": "markdown",
   "id": "a5c00982-7290-4f7c-ac6d-34391954656d",
   "metadata": {},
   "source": [
    "__Sıfırdan array oluşturma__"
   ]
  },
  {
   "cell_type": "code",
   "execution_count": 11,
   "id": "b11e0336-2aa5-4e9e-b689-612534ff1fd5",
   "metadata": {},
   "outputs": [
    {
     "data": {
      "text/plain": [
       "array([0., 0., 0., 0., 0.])"
      ]
     },
     "execution_count": 11,
     "metadata": {},
     "output_type": "execute_result"
    }
   ],
   "source": [
    "np.zeros(5)#1 boyutlu 0 lardan oluşan ve float tipinde bir array"
   ]
  },
  {
   "cell_type": "code",
   "execution_count": 12,
   "id": "1b21c03c-a85e-4255-90e1-d6f3d1b682a3",
   "metadata": {},
   "outputs": [
    {
     "data": {
      "text/plain": [
       "array([0, 0, 0, 0, 0])"
      ]
     },
     "execution_count": 12,
     "metadata": {},
     "output_type": "execute_result"
    }
   ],
   "source": [
    "np.zeros(5,dtype=\"int\")#1 boyutlu 0 lardan oluşan ve int tipinde bir array"
   ]
  },
  {
   "cell_type": "code",
   "execution_count": 13,
   "id": "9ab99136-3568-44f8-8fda-30777107dd1b",
   "metadata": {},
   "outputs": [
    {
     "data": {
      "text/plain": [
       "array([[0., 0., 0.],\n",
       "       [0., 0., 0.],\n",
       "       [0., 0., 0.]])"
      ]
     },
     "execution_count": 13,
     "metadata": {},
     "output_type": "execute_result"
    }
   ],
   "source": [
    "np.zeros((3,3))#3x3 tipinde 0 lardan oluşan bir matris"
   ]
  },
  {
   "cell_type": "code",
   "execution_count": 14,
   "id": "bbc0d68d-afb6-4d63-a817-f4e88c2a5b44",
   "metadata": {},
   "outputs": [
    {
     "data": {
      "text/plain": [
       "array([[1, 1, 1, 1],\n",
       "       [1, 1, 1, 1],\n",
       "       [1, 1, 1, 1],\n",
       "       [1, 1, 1, 1]])"
      ]
     },
     "execution_count": 14,
     "metadata": {},
     "output_type": "execute_result"
    }
   ],
   "source": [
    "np.ones((4,4),dtype=\"int\")#1 lerden oluşan 4x4 tipinde int bir matris"
   ]
  },
  {
   "cell_type": "code",
   "execution_count": 15,
   "id": "75449330-7acc-4d72-aab4-eff397dd720b",
   "metadata": {},
   "outputs": [
    {
     "data": {
      "text/plain": [
       "array([[3, 3],\n",
       "       [3, 3]])"
      ]
     },
     "execution_count": 15,
     "metadata": {},
     "output_type": "execute_result"
    }
   ],
   "source": [
    "#eğer spesifik bir değer için oluşturmak istersek\n",
    "np.full((2,2),3)"
   ]
  },
  {
   "cell_type": "code",
   "execution_count": 16,
   "id": "d6d97f9f-8205-4423-83d1-999fc368fcb1",
   "metadata": {},
   "outputs": [
    {
     "data": {
      "text/plain": [
       "array([[5, 5, 5, 5],\n",
       "       [5, 5, 5, 5],\n",
       "       [5, 5, 5, 5]])"
      ]
     },
     "execution_count": 16,
     "metadata": {},
     "output_type": "execute_result"
    }
   ],
   "source": [
    "np.full((3,4),5)"
   ]
  },
  {
   "cell_type": "markdown",
   "id": "6fd018be-0540-4654-a43c-43fd95587b52",
   "metadata": {},
   "source": [
    "--------------------------------------"
   ]
  },
  {
   "cell_type": "markdown",
   "id": "56f4a075-8046-4b09-bb59-01c06521cc9b",
   "metadata": {},
   "source": [
    "__BELİRLİ BİR ARTIŞ GÖSTEREN SAYILARDAN OTOMATİK ARRAY OLUŞTURMA__"
   ]
  },
  {
   "cell_type": "code",
   "execution_count": 17,
   "id": "17f2c4eb-6cb9-4348-8d53-105e245373b9",
   "metadata": {},
   "outputs": [
    {
     "data": {
      "text/plain": [
       "array([ 0,  3,  6,  9, 12, 15, 18, 21, 24, 27])"
      ]
     },
     "execution_count": 17,
     "metadata": {},
     "output_type": "execute_result"
    }
   ],
   "source": [
    "np.arange(0,30,3)#0 dan 30 a kadar üçer üçer artan bir array oluşturuldu"
   ]
  },
  {
   "cell_type": "code",
   "execution_count": 18,
   "id": "1931d5ac-fe05-4cda-90f7-c1accd825b3a",
   "metadata": {},
   "outputs": [
    {
     "data": {
      "text/plain": [
       "array([0.        , 0.11111111, 0.22222222, 0.33333333, 0.44444444,\n",
       "       0.55555556, 0.66666667, 0.77777778, 0.88888889, 1.        ])"
      ]
     },
     "execution_count": 18,
     "metadata": {},
     "output_type": "execute_result"
    }
   ],
   "source": [
    "np.linspace(0,1,10) # bu fonksiyon 0 ile 1 arasında 10 değer oluşturur(eşit aralıklı değil)-->array[5]-array[4] !=array[6]-array[5]"
   ]
  },
  {
   "cell_type": "code",
   "execution_count": 19,
   "id": "6627a67a-6869-4ed2-aec4-34554116581d",
   "metadata": {},
   "outputs": [
    {
     "data": {
      "text/plain": [
       "array([[10.35485688,  6.35727305, 13.00076184, 12.90387518],\n",
       "       [ 8.07414616,  9.87700151,  7.98465599, 21.05774912],\n",
       "       [ 8.20542653,  8.74725862, 14.38332535, 14.28388416]])"
      ]
     },
     "execution_count": 19,
     "metadata": {},
     "output_type": "execute_result"
    }
   ],
   "source": [
    "np.random.normal(10,4,(3,4))#ortalaması 10 olan ,standart sapması 4 olan 3x4 tipinde rassal elemanlardan oluşan bir matris oluşturulur"
   ]
  },
  {
   "cell_type": "markdown",
   "id": "422b93f0-ef4e-498d-b10b-d3cd243615bc",
   "metadata": {},
   "source": [
    "* tek boyutlu arrayin karşılığı -->vektördür\n",
    "* iki boyutlu arrayin karşılığı-->matristir"
   ]
  },
  {
   "cell_type": "code",
   "execution_count": 20,
   "id": "454419d8-199f-42fa-8a7c-ee8186e1aa39",
   "metadata": {},
   "outputs": [
    {
     "data": {
      "text/plain": [
       "array([[0, 3, 6],\n",
       "       [3, 4, 6],\n",
       "       [7, 9, 7]])"
      ]
     },
     "execution_count": 20,
     "metadata": {},
     "output_type": "execute_result"
    }
   ],
   "source": [
    "np.random.randint(0,10,(3,3))#burada 0 ile 10 arasında int tipinde rastgele elemanlardan oluşan 3x3 tipinde bir array oluşturulur"
   ]
  },
  {
   "cell_type": "code",
   "execution_count": 21,
   "id": "b60577c8-0207-4422-8a92-34c614a0eeb4",
   "metadata": {},
   "outputs": [
    {
     "data": {
      "text/plain": [
       "array([[6, 6, 2],\n",
       "       [2, 0, 0],\n",
       "       [1, 8, 7]])"
      ]
     },
     "execution_count": 21,
     "metadata": {},
     "output_type": "execute_result"
    }
   ],
   "source": [
    "np.random.randint(0,10,(3,3))"
   ]
  },
  {
   "cell_type": "markdown",
   "id": "91af968c-5a14-4bb0-9d08-c7dc7d9cf77c",
   "metadata": {},
   "source": [
    "## Numpy Özellikler"
   ]
  },
  {
   "cell_type": "markdown",
   "id": "e037e8b5-5dfb-4392-8f53-57a095d7a8d7",
   "metadata": {},
   "source": [
    "* **_ndim_**: _boyut sayısı_\n",
    "* **_shape_**: _boyut bilgisi_\n",
    "* **_size_**: _toplam eleman sayısı_\n",
    "* **_dtype_**: _array veri tipi_"
   ]
  },
  {
   "cell_type": "code",
   "execution_count": 22,
   "id": "78a83c24-401a-4a43-98a1-bc968e578a01",
   "metadata": {},
   "outputs": [],
   "source": [
    "random_array=np.random.randint(0,10,size=15)\n",
    "random_array2=np.random.randint(0,10,size=(3,3))"
   ]
  },
  {
   "cell_type": "code",
   "execution_count": 23,
   "id": "1e5e683d-be4b-4847-9271-cc0d27f361da",
   "metadata": {},
   "outputs": [
    {
     "data": {
      "text/plain": [
       "array([2, 5, 4, 5, 3, 7, 2, 3, 7, 2, 3, 2, 2, 4, 5])"
      ]
     },
     "execution_count": 23,
     "metadata": {},
     "output_type": "execute_result"
    }
   ],
   "source": [
    "random_array"
   ]
  },
  {
   "cell_type": "code",
   "execution_count": 24,
   "id": "6151d0e0-97f5-4b8d-9209-f922f7d31a61",
   "metadata": {},
   "outputs": [
    {
     "name": "stdout",
     "output_type": "stream",
     "text": [
      "1\n",
      "2\n"
     ]
    }
   ],
   "source": [
    "print(random_array.ndim)#1 boyutlu array\n",
    "print(random_array2.ndim)#2 boyutlu array"
   ]
  },
  {
   "cell_type": "code",
   "execution_count": 25,
   "id": "d4f294ef-0f28-4d14-9d66-c6022434dacb",
   "metadata": {},
   "outputs": [
    {
     "name": "stdout",
     "output_type": "stream",
     "text": [
      "(15,)\n",
      "(3, 3)\n"
     ]
    }
   ],
   "source": [
    "print(random_array.shape)#15x1 tipinde bir array\n",
    "print(random_array2.shape)#3x3 tipinde bir array"
   ]
  },
  {
   "cell_type": "code",
   "execution_count": 26,
   "id": "d6226780-a415-4f2a-9c2e-883340a94204",
   "metadata": {},
   "outputs": [
    {
     "name": "stdout",
     "output_type": "stream",
     "text": [
      "15\n",
      "9\n"
     ]
    }
   ],
   "source": [
    "print(random_array.size)#arrayin tüm eleman sayısı 15 dir\n",
    "print(random_array2.size)#arrayin tüm eleman sayısı 9 dur"
   ]
  },
  {
   "cell_type": "code",
   "execution_count": 27,
   "id": "01a7ce2c-9afe-4679-b56f-9c6e76f40d22",
   "metadata": {},
   "outputs": [
    {
     "name": "stdout",
     "output_type": "stream",
     "text": [
      "int32\n",
      "int32\n"
     ]
    }
   ],
   "source": [
    "print(random_array.dtype)#arrayin fix tipi int32 dir\n",
    "print(random_array2.dtype)#arrayin fix tipi int32 dir"
   ]
  },
  {
   "cell_type": "markdown",
   "id": "09b0b131-b556-458c-a3ce-71a0fd3f1c07",
   "metadata": {},
   "source": [
    "**_Yeniden Şekillendirme(Reshaping)_**"
   ]
  },
  {
   "cell_type": "code",
   "execution_count": 28,
   "id": "40c55506-0071-4926-8744-1874d38bc848",
   "metadata": {},
   "outputs": [
    {
     "data": {
      "text/plain": [
       "array([1, 2, 3, 4, 5, 6, 7, 8, 9])"
      ]
     },
     "execution_count": 28,
     "metadata": {},
     "output_type": "execute_result"
    }
   ],
   "source": [
    "np.arange(1,10)"
   ]
  },
  {
   "cell_type": "code",
   "execution_count": 29,
   "id": "346d1127-6a96-4db0-9ecd-2fd387272e90",
   "metadata": {},
   "outputs": [
    {
     "data": {
      "text/plain": [
       "array([[1, 2, 3],\n",
       "       [4, 5, 6],\n",
       "       [7, 8, 9]])"
      ]
     },
     "execution_count": 29,
     "metadata": {},
     "output_type": "execute_result"
    }
   ],
   "source": [
    "np.arange(1,10).reshape(3,3)"
   ]
  },
  {
   "cell_type": "code",
   "execution_count": 30,
   "id": "8ea93fa0-1ba8-480b-bd07-6578351b5976",
   "metadata": {},
   "outputs": [
    {
     "data": {
      "text/plain": [
       "2"
      ]
     },
     "execution_count": 30,
     "metadata": {},
     "output_type": "execute_result"
    }
   ],
   "source": [
    "np.arange(1,10).reshape(3,3).ndim"
   ]
  },
  {
   "cell_type": "code",
   "execution_count": 31,
   "id": "5bc5b6c8-b7a9-46b1-9fe5-e3abdfa9c1e7",
   "metadata": {},
   "outputs": [
    {
     "data": {
      "text/plain": [
       "array([[1, 2, 3],\n",
       "       [4, 5, 6],\n",
       "       [7, 8, 9]])"
      ]
     },
     "execution_count": 31,
     "metadata": {},
     "output_type": "execute_result"
    }
   ],
   "source": [
    "np.arange(1,10).reshape((3,3))"
   ]
  },
  {
   "cell_type": "code",
   "execution_count": 32,
   "id": "d480ae93-38fc-4e04-9dad-a0239309286f",
   "metadata": {},
   "outputs": [
    {
     "data": {
      "text/plain": [
       "array([1, 2, 3, 4, 5, 6, 7, 8, 9])"
      ]
     },
     "execution_count": 32,
     "metadata": {},
     "output_type": "execute_result"
    }
   ],
   "source": [
    "array_reshape=np.arange(1,10)\n",
    "array_reshape"
   ]
  },
  {
   "cell_type": "code",
   "execution_count": 33,
   "id": "fa31a222-2643-4e79-a217-f0cbc9ba310f",
   "metadata": {},
   "outputs": [
    {
     "data": {
      "text/plain": [
       "1"
      ]
     },
     "execution_count": 33,
     "metadata": {},
     "output_type": "execute_result"
    }
   ],
   "source": [
    "array_reshape.ndim"
   ]
  },
  {
   "cell_type": "code",
   "execution_count": 34,
   "id": "e68c24ec-f409-4946-88a8-41f1dbd6c238",
   "metadata": {},
   "outputs": [
    {
     "data": {
      "text/plain": [
       "array([[1, 2, 3, 4, 5, 6, 7, 8, 9]])"
      ]
     },
     "execution_count": 34,
     "metadata": {},
     "output_type": "execute_result"
    }
   ],
   "source": [
    "array_reshape.reshape(1,9)"
   ]
  },
  {
   "cell_type": "code",
   "execution_count": 35,
   "id": "58643acd-7f11-49a1-87b8-9c05d846e8b4",
   "metadata": {},
   "outputs": [
    {
     "data": {
      "text/plain": [
       "2"
      ]
     },
     "execution_count": 35,
     "metadata": {},
     "output_type": "execute_result"
    }
   ],
   "source": [
    "array_reshape.reshape(1,9).ndim#2 boyutlu matristir ancak tek boyut bilgisi taşır "
   ]
  },
  {
   "cell_type": "markdown",
   "id": "4f0a8484-1a9f-4aab-9437-029e00c1021d",
   "metadata": {},
   "source": [
    "**_Birleştirme(concatenation)_**"
   ]
  },
  {
   "cell_type": "code",
   "execution_count": 36,
   "id": "91672da4-a839-44ac-8f7c-cc084320756a",
   "metadata": {},
   "outputs": [],
   "source": [
    "array_concat1=np.arange(1,4)\n",
    "array_concat2=np.arange(4,7)\n",
    "array_concat3=np.arange(7,10)"
   ]
  },
  {
   "cell_type": "code",
   "execution_count": 37,
   "id": "f50d48ae-ceaf-4676-8d66-5e33ab45894b",
   "metadata": {},
   "outputs": [
    {
     "data": {
      "text/plain": [
       "array([1, 2, 3, 4, 5, 6])"
      ]
     },
     "execution_count": 37,
     "metadata": {},
     "output_type": "execute_result"
    }
   ],
   "source": [
    "np.concatenate([array_concat1,array_concat2])"
   ]
  },
  {
   "cell_type": "code",
   "execution_count": 38,
   "id": "a681bcc9-7088-4ce7-ba8f-0af52d547403",
   "metadata": {},
   "outputs": [
    {
     "data": {
      "text/plain": [
       "array([1, 2, 3, 4, 5, 6, 7, 8, 9])"
      ]
     },
     "execution_count": 38,
     "metadata": {},
     "output_type": "execute_result"
    }
   ],
   "source": [
    "np.concatenate([array_concat1,array_concat2,array_concat3])"
   ]
  },
  {
   "cell_type": "code",
   "execution_count": 39,
   "id": "8cf96e43-ef0b-4a88-9bcc-9910965c3dba",
   "metadata": {},
   "outputs": [],
   "source": [
    "#iki boyutta concat"
   ]
  },
  {
   "cell_type": "code",
   "execution_count": 40,
   "id": "d2885114-a2a3-464a-8c48-46de98202fa5",
   "metadata": {},
   "outputs": [],
   "source": [
    "array_2D_concat=np.array([[1,2,3],\n",
    "                        [3,4,5],\n",
    "                        [6,7,2]])"
   ]
  },
  {
   "cell_type": "code",
   "execution_count": 41,
   "id": "a88d3eb4-e683-4683-9d38-aade1a5faa97",
   "metadata": {},
   "outputs": [
    {
     "data": {
      "text/plain": [
       "array([[1, 2, 3],\n",
       "       [3, 4, 5],\n",
       "       [6, 7, 2],\n",
       "       [1, 2, 3],\n",
       "       [3, 4, 5],\n",
       "       [6, 7, 2]])"
      ]
     },
     "execution_count": 41,
     "metadata": {},
     "output_type": "execute_result"
    }
   ],
   "source": [
    "np.concatenate([array_2D_concat,array_2D_concat])#satır bazlı bir birleştirme işlemi gerçekleştirildi"
   ]
  },
  {
   "cell_type": "code",
   "execution_count": 42,
   "id": "a2cbb1b6-9633-4b0e-9807-8988ef667576",
   "metadata": {},
   "outputs": [
    {
     "data": {
      "text/plain": [
       "array([[1, 2, 3, 1, 2, 3],\n",
       "       [3, 4, 5, 3, 4, 5],\n",
       "       [6, 7, 2, 6, 7, 2]])"
      ]
     },
     "execution_count": 42,
     "metadata": {},
     "output_type": "execute_result"
    }
   ],
   "source": [
    "np.concatenate([array_2D_concat,array_2D_concat],axis=1)#sütun bazlı bir birleştirme işlemi gerçekleştirilir"
   ]
  },
  {
   "cell_type": "markdown",
   "id": "d50a6323-ddde-422d-aa3f-7d1515573ff5",
   "metadata": {},
   "source": [
    "**_Array Ayırma(Splitting)_**"
   ]
  },
  {
   "cell_type": "code",
   "execution_count": 43,
   "id": "a167d26b-65b8-4ee3-bccf-af9b51e51b6c",
   "metadata": {},
   "outputs": [],
   "source": [
    "array_split=np.array([1,2,3,4,5,6,7,8])"
   ]
  },
  {
   "cell_type": "code",
   "execution_count": 44,
   "id": "10136fa4-5120-447a-ba2f-557115787bb3",
   "metadata": {},
   "outputs": [
    {
     "data": {
      "text/plain": [
       "[array([1, 2, 3]), array([4, 5]), array([6, 7, 8])]"
      ]
     },
     "execution_count": 44,
     "metadata": {},
     "output_type": "execute_result"
    }
   ],
   "source": [
    "np.split(array_split,[3,5])"
   ]
  },
  {
   "cell_type": "code",
   "execution_count": 45,
   "id": "c0d6ada1-9e5c-4622-a3c9-9f691964dfde",
   "metadata": {},
   "outputs": [],
   "source": [
    "array_part1,array_part2,array_part3=np.split(array_split,[3,5])"
   ]
  },
  {
   "cell_type": "code",
   "execution_count": 46,
   "id": "242b1134-fa94-43bd-9b30-da055e7aced8",
   "metadata": {},
   "outputs": [
    {
     "name": "stdout",
     "output_type": "stream",
     "text": [
      "[1 2 3]\n",
      "[4 5]\n",
      "[6 7 8]\n"
     ]
    }
   ],
   "source": [
    "print(array_part1)\n",
    "print(array_part2)\n",
    "print(array_part3)"
   ]
  },
  {
   "cell_type": "code",
   "execution_count": 47,
   "id": "f3872df2-5ab1-4aaa-9744-6e9a8833b282",
   "metadata": {},
   "outputs": [],
   "source": [
    "array_split2=np.arange(16).reshape(4,4)"
   ]
  },
  {
   "cell_type": "code",
   "execution_count": 48,
   "id": "06a0a76d-4d39-4402-955a-7f38cabc94b8",
   "metadata": {},
   "outputs": [
    {
     "data": {
      "text/plain": [
       "array([[ 0,  1,  2,  3],\n",
       "       [ 4,  5,  6,  7],\n",
       "       [ 8,  9, 10, 11],\n",
       "       [12, 13, 14, 15]])"
      ]
     },
     "execution_count": 48,
     "metadata": {},
     "output_type": "execute_result"
    }
   ],
   "source": [
    "array_split2"
   ]
  },
  {
   "cell_type": "code",
   "execution_count": 49,
   "id": "ab5a3645-cad3-4505-bc1a-bec1aa6e90c5",
   "metadata": {},
   "outputs": [
    {
     "data": {
      "text/plain": [
       "[array([[0, 1, 2, 3],\n",
       "        [4, 5, 6, 7]]),\n",
       " array([[ 8,  9, 10, 11],\n",
       "        [12, 13, 14, 15]])]"
      ]
     },
     "execution_count": 49,
     "metadata": {},
     "output_type": "execute_result"
    }
   ],
   "source": [
    "np.vsplit(array_split2,[2])#satır bazlı bölme işlemini gerçekleştirir\n"
   ]
  },
  {
   "cell_type": "code",
   "execution_count": 50,
   "id": "237ce2d4-f17e-4574-a5bf-6019831d625e",
   "metadata": {},
   "outputs": [
    {
     "name": "stdout",
     "output_type": "stream",
     "text": [
      "[[0 1 2 3]\n",
      " [4 5 6 7]]\n",
      "[[ 8  9 10 11]\n",
      " [12 13 14 15]]\n"
     ]
    }
   ],
   "source": [
    "up,down=np.vsplit(array_split2,[2])\n",
    "print(up)\n",
    "print(down)"
   ]
  },
  {
   "cell_type": "code",
   "execution_count": 51,
   "id": "7a1e6b32-293f-48f9-88ce-df9a67598f79",
   "metadata": {},
   "outputs": [
    {
     "data": {
      "text/plain": [
       "[array([[ 0,  1],\n",
       "        [ 4,  5],\n",
       "        [ 8,  9],\n",
       "        [12, 13]]),\n",
       " array([[ 2,  3],\n",
       "        [ 6,  7],\n",
       "        [10, 11],\n",
       "        [14, 15]])]"
      ]
     },
     "execution_count": 51,
     "metadata": {},
     "output_type": "execute_result"
    }
   ],
   "source": [
    "np.hsplit(array_split2,[2])#sütun bazlı bölme işlemini gerçekleştirir"
   ]
  },
  {
   "cell_type": "code",
   "execution_count": 52,
   "id": "92455b68-f1c4-4856-a047-6d9e0531c0ed",
   "metadata": {},
   "outputs": [
    {
     "name": "stdout",
     "output_type": "stream",
     "text": [
      "[[ 0  1]\n",
      " [ 4  5]\n",
      " [ 8  9]\n",
      " [12 13]]\n",
      "[[ 2  3]\n",
      " [ 6  7]\n",
      " [10 11]\n",
      " [14 15]]\n"
     ]
    }
   ],
   "source": [
    "left,right=np.hsplit(array_split2,[2])\n",
    "print(left)\n",
    "print(right)"
   ]
  },
  {
   "cell_type": "markdown",
   "id": "9221b0a8-e613-485d-8794-f8c9fa67448f",
   "metadata": {},
   "source": [
    "**_Sıralama(Sorting)_**"
   ]
  },
  {
   "cell_type": "code",
   "execution_count": 53,
   "id": "69637a6b-2a5f-4240-88b7-e9a5c209a26d",
   "metadata": {},
   "outputs": [
    {
     "data": {
      "text/plain": [
       "array([1, 1, 2, 3, 4, 5, 5])"
      ]
     },
     "execution_count": 53,
     "metadata": {},
     "output_type": "execute_result"
    }
   ],
   "source": [
    "array_sort=np.array([3,1,4,1,5,2,5])\n",
    "np.sort(array_sort)"
   ]
  },
  {
   "cell_type": "code",
   "execution_count": 54,
   "id": "930ca98c-6efb-4b7b-b55e-57793e6be4e4",
   "metadata": {},
   "outputs": [
    {
     "data": {
      "text/plain": [
       "array([3, 1, 4, 1, 5, 2, 5])"
      ]
     },
     "execution_count": 54,
     "metadata": {},
     "output_type": "execute_result"
    }
   ],
   "source": [
    "array_sort"
   ]
  },
  {
   "cell_type": "code",
   "execution_count": 55,
   "id": "00405cc0-d42b-44ab-92b0-9f9863609f91",
   "metadata": {},
   "outputs": [],
   "source": [
    "#iki boyutlu arrayi sıralama :sıralama satır veya sütun bazlı gerçekleştirilir"
   ]
  },
  {
   "cell_type": "code",
   "execution_count": 56,
   "id": "4ef91f6b-eb96-4b1e-b260-a54b857a5d99",
   "metadata": {},
   "outputs": [
    {
     "data": {
      "text/plain": [
       "array([[21.48034512, 22.14895056, 19.63784242],\n",
       "       [15.89452593, 19.55304677, 18.22224974],\n",
       "       [19.7943917 , 23.03915286, 20.48186183]])"
      ]
     },
     "execution_count": 56,
     "metadata": {},
     "output_type": "execute_result"
    }
   ],
   "source": [
    "array_sort2=np.random.normal(20,2,(3,3))\n",
    "array_sort2"
   ]
  },
  {
   "cell_type": "code",
   "execution_count": 57,
   "id": "bc35c11e-a557-4d1a-a6bb-d30d887b5921",
   "metadata": {},
   "outputs": [
    {
     "data": {
      "text/plain": [
       "array([[19.63784242, 21.48034512, 22.14895056],\n",
       "       [15.89452593, 18.22224974, 19.55304677],\n",
       "       [19.7943917 , 20.48186183, 23.03915286]])"
      ]
     },
     "execution_count": 57,
     "metadata": {},
     "output_type": "execute_result"
    }
   ],
   "source": [
    "np.sort(array_sort2)#-->Satır bazlı sıralar "
   ]
  },
  {
   "cell_type": "code",
   "execution_count": 58,
   "id": "74a4a2fe-b8d7-4369-b6d0-32e25843edd7",
   "metadata": {},
   "outputs": [
    {
     "data": {
      "text/plain": [
       "array([[15.89452593, 19.55304677, 18.22224974],\n",
       "       [19.7943917 , 22.14895056, 19.63784242],\n",
       "       [21.48034512, 23.03915286, 20.48186183]])"
      ]
     },
     "execution_count": 58,
     "metadata": {},
     "output_type": "execute_result"
    }
   ],
   "source": [
    "np.sort(array_sort2,axis=0)#-->sütun bazlı sıralar"
   ]
  },
  {
   "cell_type": "code",
   "execution_count": 59,
   "id": "ff340a2c-5959-4f11-8f10-51e163cca60a",
   "metadata": {},
   "outputs": [
    {
     "data": {
      "text/plain": [
       "array([[19.63784242, 21.48034512, 22.14895056],\n",
       "       [15.89452593, 18.22224974, 19.55304677],\n",
       "       [19.7943917 , 20.48186183, 23.03915286]])"
      ]
     },
     "execution_count": 59,
     "metadata": {},
     "output_type": "execute_result"
    }
   ],
   "source": [
    "np.sort(array_sort2,axis=1)#-->satır bazlı sıralar"
   ]
  },
  {
   "cell_type": "code",
   "execution_count": 60,
   "id": "0cc2d67f-5b97-4907-8ada-88513135a58d",
   "metadata": {},
   "outputs": [
    {
     "data": {
      "text/plain": [
       "array([ 5, 10, 15])"
      ]
     },
     "execution_count": 60,
     "metadata": {},
     "output_type": "execute_result"
    }
   ],
   "source": [
    "5*np.array([1,2,3])#deneme"
   ]
  },
  {
   "cell_type": "markdown",
   "id": "85df642e-3f99-46dd-8542-8d996fd17775",
   "metadata": {},
   "source": [
    "**_İndex ile elemana erişmek_**"
   ]
  },
  {
   "cell_type": "code",
   "execution_count": 61,
   "id": "e80d5f09-54af-41e2-aea4-eb15127c4820",
   "metadata": {},
   "outputs": [
    {
     "data": {
      "text/plain": [
       "array([[ 14,   4,  25],\n",
       "       [ 34,  14,   1],\n",
       "       [  1,   5, 112]])"
      ]
     },
     "execution_count": 61,
     "metadata": {},
     "output_type": "execute_result"
    }
   ],
   "source": [
    "array_index=np.array([[14,4,25],\n",
    "                      [34,14,1],\n",
    "                      [1,5,112]])\n",
    "array_index"
   ]
  },
  {
   "cell_type": "code",
   "execution_count": 62,
   "id": "96fabf6f-5849-4732-8e3b-debe46de9cef",
   "metadata": {},
   "outputs": [],
   "source": [
    "array_index[2,2]=10"
   ]
  },
  {
   "cell_type": "code",
   "execution_count": 63,
   "id": "37126a9b-2210-42d9-b32e-9d6911721d55",
   "metadata": {},
   "outputs": [
    {
     "data": {
      "text/plain": [
       "array([[14,  4, 25],\n",
       "       [34, 14,  1],\n",
       "       [ 1,  5, 10]])"
      ]
     },
     "execution_count": 63,
     "metadata": {},
     "output_type": "execute_result"
    }
   ],
   "source": [
    "array_index"
   ]
  },
  {
   "cell_type": "code",
   "execution_count": 64,
   "id": "c9d82ae3-bd7d-45ca-b85d-14a384cd6140",
   "metadata": {},
   "outputs": [],
   "source": [
    "array_index[2,2]=9.8#tip sabitleme (fix type)"
   ]
  },
  {
   "cell_type": "code",
   "execution_count": 65,
   "id": "f259a57b-de3c-4179-880c-8b5d314628ec",
   "metadata": {},
   "outputs": [
    {
     "data": {
      "text/plain": [
       "array([[14,  4, 25],\n",
       "       [34, 14,  1],\n",
       "       [ 1,  5,  9]])"
      ]
     },
     "execution_count": 65,
     "metadata": {},
     "output_type": "execute_result"
    }
   ],
   "source": [
    "array_index"
   ]
  },
  {
   "cell_type": "markdown",
   "id": "514dc8ae-07f2-44ad-a3a3-e306892f901e",
   "metadata": {},
   "source": [
    "**_Alt Küme İşlemleri(Slicing)_**"
   ]
  },
  {
   "cell_type": "code",
   "execution_count": 66,
   "id": "10c98b23-21c0-405c-b27e-f5012db3de22",
   "metadata": {},
   "outputs": [],
   "source": [
    "array_slice=np.arange(10,20)"
   ]
  },
  {
   "cell_type": "code",
   "execution_count": 67,
   "id": "55fd2ee9-11ed-4908-802b-2cd395ad5f7d",
   "metadata": {},
   "outputs": [
    {
     "data": {
      "text/plain": [
       "array([11, 12])"
      ]
     },
     "execution_count": 67,
     "metadata": {},
     "output_type": "execute_result"
    }
   ],
   "source": [
    "array_slice[1:3]"
   ]
  },
  {
   "cell_type": "code",
   "execution_count": 68,
   "id": "c19da632-7c70-403a-9875-139bd103476b",
   "metadata": {},
   "outputs": [
    {
     "data": {
      "text/plain": [
       "array([10, 11, 12])"
      ]
     },
     "execution_count": 68,
     "metadata": {},
     "output_type": "execute_result"
    }
   ],
   "source": [
    "array_slice[:3]"
   ]
  },
  {
   "cell_type": "code",
   "execution_count": 69,
   "id": "5beca682-3ea6-4263-9299-cbe19c7063a1",
   "metadata": {},
   "outputs": [
    {
     "data": {
      "text/plain": [
       "array([13, 14, 15, 16, 17, 18, 19])"
      ]
     },
     "execution_count": 69,
     "metadata": {},
     "output_type": "execute_result"
    }
   ],
   "source": [
    "array_slice[3:]"
   ]
  },
  {
   "cell_type": "code",
   "execution_count": 70,
   "id": "475d41cb-55b6-4895-a47d-128f866686cc",
   "metadata": {},
   "outputs": [
    {
     "data": {
      "text/plain": [
       "array([13, 15, 17, 19])"
      ]
     },
     "execution_count": 70,
     "metadata": {},
     "output_type": "execute_result"
    }
   ],
   "source": [
    "array_slice[3::2]"
   ]
  },
  {
   "cell_type": "code",
   "execution_count": 71,
   "id": "e61212c2-177c-468c-a296-857ca9b6849e",
   "metadata": {},
   "outputs": [
    {
     "data": {
      "text/plain": [
       "array([11, 13, 15])"
      ]
     },
     "execution_count": 71,
     "metadata": {},
     "output_type": "execute_result"
    }
   ],
   "source": [
    "array_slice[1:7:2]"
   ]
  },
  {
   "cell_type": "code",
   "execution_count": 72,
   "id": "54d19550-4b5a-43e0-9a41-b18704dddd1e",
   "metadata": {},
   "outputs": [],
   "source": [
    "#iki boyutlu slicing"
   ]
  },
  {
   "cell_type": "code",
   "execution_count": 73,
   "id": "910c9b9f-c2f5-4b0c-a3dc-c5e0335feb2d",
   "metadata": {},
   "outputs": [],
   "source": [
    "array_slice2=np.random.randint(10,size=(5,5))"
   ]
  },
  {
   "cell_type": "code",
   "execution_count": 74,
   "id": "ed835342-51ce-4cc5-9933-9cf6074f2906",
   "metadata": {},
   "outputs": [
    {
     "data": {
      "text/plain": [
       "array([[3, 6, 6, 7, 7],\n",
       "       [7, 2, 0, 1, 9],\n",
       "       [3, 1, 1, 7, 0],\n",
       "       [9, 1, 9, 0, 4],\n",
       "       [6, 6, 7, 6, 4]])"
      ]
     },
     "execution_count": 74,
     "metadata": {},
     "output_type": "execute_result"
    }
   ],
   "source": [
    "array_slice2"
   ]
  },
  {
   "cell_type": "code",
   "execution_count": 75,
   "id": "ede2ba21-f8ae-4014-be8f-e2806ecd8115",
   "metadata": {},
   "outputs": [
    {
     "data": {
      "text/plain": [
       "array([6, 2, 1, 1, 6])"
      ]
     },
     "execution_count": 75,
     "metadata": {},
     "output_type": "execute_result"
    }
   ],
   "source": [
    "array_slice2[:,1]#1.sütunun tüm satırları"
   ]
  },
  {
   "cell_type": "code",
   "execution_count": 76,
   "id": "eab17ece-e2a7-40f5-867d-0c6f1ba0a876",
   "metadata": {},
   "outputs": [
    {
     "data": {
      "text/plain": [
       "array([3, 6, 6, 7, 7])"
      ]
     },
     "execution_count": 76,
     "metadata": {},
     "output_type": "execute_result"
    }
   ],
   "source": [
    "array_slice2[0,:]#0.satırın tüm sütunları"
   ]
  },
  {
   "cell_type": "code",
   "execution_count": 77,
   "id": "4ca6f525-9133-482a-b4e5-e1f9e11efa52",
   "metadata": {},
   "outputs": [
    {
     "data": {
      "text/plain": [
       "array([[0, 1],\n",
       "       [1, 7]])"
      ]
     },
     "execution_count": 77,
     "metadata": {},
     "output_type": "execute_result"
    }
   ],
   "source": [
    "array_slice2[1:3,2:4]#2 satır ve 3.satırın sadece 3 ve 4.sütunlarını al"
   ]
  },
  {
   "cell_type": "markdown",
   "id": "8016e89f-dbdb-482e-87dc-989a0809983e",
   "metadata": {},
   "source": [
    "**_Alt Küme Üzerinde İşlem Yapmak_**"
   ]
  },
  {
   "cell_type": "code",
   "execution_count": 78,
   "id": "b639676c-1610-4f64-a3fb-40689329a7e5",
   "metadata": {},
   "outputs": [],
   "source": [
    "#alt arrayler üzerinde yapılan işlemler ana array üzerinde de kaydedildiğinden bu alt arrayleri bağımsılaştırmak için koyası üzerinde çalışırız"
   ]
  },
  {
   "cell_type": "code",
   "execution_count": 79,
   "id": "80bd3e08-0d32-4cfa-b3fc-9acf97d3bf12",
   "metadata": {},
   "outputs": [],
   "source": [
    "array_anaKume=np.random.randint(10,size=(4,4))"
   ]
  },
  {
   "cell_type": "code",
   "execution_count": 80,
   "id": "48e5c059-99ab-4dbf-b308-b5d5153ced2d",
   "metadata": {},
   "outputs": [
    {
     "data": {
      "text/plain": [
       "array([[6, 7],\n",
       "       [6, 8],\n",
       "       [8, 3]])"
      ]
     },
     "execution_count": 80,
     "metadata": {},
     "output_type": "execute_result"
    }
   ],
   "source": [
    "array_altKume=array_anaKume[0:3,0:2]\n",
    "array_altKume"
   ]
  },
  {
   "cell_type": "code",
   "execution_count": 81,
   "id": "dfef784c-7be5-442f-8798-93da1bf3ac1a",
   "metadata": {},
   "outputs": [
    {
     "data": {
      "text/plain": [
       "array([[6, 7, 1, 7],\n",
       "       [6, 8, 9, 6],\n",
       "       [8, 3, 2, 3],\n",
       "       [4, 3, 4, 2]])"
      ]
     },
     "execution_count": 81,
     "metadata": {},
     "output_type": "execute_result"
    }
   ],
   "source": [
    "array_anaKume"
   ]
  },
  {
   "cell_type": "code",
   "execution_count": 82,
   "id": "ff0e4314-6baa-4837-b4db-64537dc27004",
   "metadata": {},
   "outputs": [
    {
     "data": {
      "text/plain": [
       "array([[6, 7, 1, 7],\n",
       "       [6, 0, 9, 6],\n",
       "       [8, 3, 2, 3],\n",
       "       [4, 3, 4, 2]])"
      ]
     },
     "execution_count": 82,
     "metadata": {},
     "output_type": "execute_result"
    }
   ],
   "source": [
    "array_altKume[1,1]=0\n",
    "array_anaKume"
   ]
  },
  {
   "cell_type": "code",
   "execution_count": 83,
   "id": "78ad2387-ee9f-45cd-8e2e-c12241477fda",
   "metadata": {},
   "outputs": [],
   "source": [
    "array_copy_altKume=array_anaKume[0:3,0:2].copy()"
   ]
  },
  {
   "cell_type": "code",
   "execution_count": 85,
   "id": "95483583-e11e-43fd-9ef0-c7653e7271c3",
   "metadata": {},
   "outputs": [
    {
     "data": {
      "text/plain": [
       "array([[6, 7, 1, 7],\n",
       "       [6, 0, 9, 6],\n",
       "       [8, 3, 2, 3],\n",
       "       [4, 3, 4, 2]])"
      ]
     },
     "execution_count": 85,
     "metadata": {},
     "output_type": "execute_result"
    }
   ],
   "source": [
    "array_copy_altKume[1,1]=1\n",
    "array_anaKume"
   ]
  },
  {
   "cell_type": "markdown",
   "id": "3aed004a-6f9d-4263-bfaa-340737668a0d",
   "metadata": {},
   "source": [
    "**_Fancy Index ile Elemanlara Erişmek_**"
   ]
  },
  {
   "cell_type": "code",
   "execution_count": 86,
   "id": "6f7b6dd4-b3f9-47c2-9470-1440d53dda0a",
   "metadata": {},
   "outputs": [],
   "source": [
    "array_fancy=np.arange(0,30,3)"
   ]
  },
  {
   "cell_type": "code",
   "execution_count": 87,
   "id": "66a99e38-fc48-4db9-b832-b0bfa80ed8e2",
   "metadata": {},
   "outputs": [
    {
     "data": {
      "text/plain": [
       "[3, 9, 15]"
      ]
     },
     "execution_count": 87,
     "metadata": {},
     "output_type": "execute_result"
    }
   ],
   "source": [
    "[array_fancy[1],array_fancy[3],array_fancy[5]]"
   ]
  },
  {
   "cell_type": "code",
   "execution_count": 88,
   "id": "fc09b910-be46-4302-93c7-397874b8e3aa",
   "metadata": {},
   "outputs": [],
   "source": [
    "fancy_index=[1,3,5]"
   ]
  },
  {
   "cell_type": "code",
   "execution_count": 92,
   "id": "ee740db5-0646-4a4e-9e28-b6c31a1bbb96",
   "metadata": {},
   "outputs": [
    {
     "data": {
      "text/plain": [
       "array([ 3,  9, 15])"
      ]
     },
     "execution_count": 92,
     "metadata": {},
     "output_type": "execute_result"
    }
   ],
   "source": [
    "array_fancy[fancy_index]\n",
    "#array_fancy[1,3,5]--->IndexError veriyor"
   ]
  },
  {
   "cell_type": "code",
   "execution_count": 93,
   "id": "383af2cc-9f7c-478e-8d74-34341a988ecf",
   "metadata": {},
   "outputs": [],
   "source": [
    "#İKİ BOYUTTA FANCY "
   ]
  },
  {
   "cell_type": "code",
   "execution_count": 96,
   "id": "5bccb6c3-fc19-45de-bbae-2008f849117b",
   "metadata": {},
   "outputs": [
    {
     "data": {
      "text/plain": [
       "array([[0, 1, 2],\n",
       "       [3, 4, 5],\n",
       "       [6, 7, 8]])"
      ]
     },
     "execution_count": 96,
     "metadata": {},
     "output_type": "execute_result"
    }
   ],
   "source": [
    "array_fancy2=np.arange(9).reshape(3,3)\n",
    "array_fancy2"
   ]
  },
  {
   "cell_type": "code",
   "execution_count": 98,
   "id": "eaee4ac6-4570-4234-8403-6fb12d56d85b",
   "metadata": {},
   "outputs": [],
   "source": [
    "satir=np.array([0,1])\n",
    "sutun=np.array([1,2])"
   ]
  },
  {
   "cell_type": "code",
   "execution_count": 99,
   "id": "d30ea04b-5db4-4d8d-b9d4-10ac013950bf",
   "metadata": {},
   "outputs": [
    {
     "data": {
      "text/plain": [
       "array([1, 5])"
      ]
     },
     "execution_count": 99,
     "metadata": {},
     "output_type": "execute_result"
    }
   ],
   "source": [
    "array_fancy2[satir,sutun]#array_fancy2[0,1] ve array_fancy2[1,2] değerlerini döndürür"
   ]
  },
  {
   "cell_type": "code",
   "execution_count": 100,
   "id": "9ead9434-c5db-41c9-b9d8-5acc08822ecc",
   "metadata": {},
   "outputs": [
    {
     "data": {
      "text/plain": [
       "array([1, 2])"
      ]
     },
     "execution_count": 100,
     "metadata": {},
     "output_type": "execute_result"
    }
   ],
   "source": [
    "array_fancy2[0,[1,2]]"
   ]
  },
  {
   "cell_type": "code",
   "execution_count": 101,
   "id": "c53640da-476a-445c-8195-a622e7fc3f7a",
   "metadata": {},
   "outputs": [
    {
     "data": {
      "text/plain": [
       "array([[1, 2],\n",
       "       [4, 5],\n",
       "       [7, 8]])"
      ]
     },
     "execution_count": 101,
     "metadata": {},
     "output_type": "execute_result"
    }
   ],
   "source": [
    "#slice\n",
    "array_fancy2[0:,[1,2]]"
   ]
  },
  {
   "cell_type": "markdown",
   "id": "8958b216-00dd-40ab-b22e-f2140c5c2ce0",
   "metadata": {},
   "source": [
    "**_Koşullu Eleman İşlemleri_**"
   ]
  },
  {
   "cell_type": "code",
   "execution_count": 102,
   "id": "103de352-aab5-4f96-b5df-fef5a06f4efc",
   "metadata": {},
   "outputs": [],
   "source": [
    "array_kosul=np.arange(0,10)"
   ]
  },
  {
   "cell_type": "code",
   "execution_count": 104,
   "id": "c2d45646-a08c-4565-9ef7-c274b52abb7d",
   "metadata": {},
   "outputs": [
    {
     "data": {
      "text/plain": [
       "array([0, 1, 2])"
      ]
     },
     "execution_count": 104,
     "metadata": {},
     "output_type": "execute_result"
    }
   ],
   "source": [
    "array_kosul[array_kosul<3]"
   ]
  },
  {
   "cell_type": "code",
   "execution_count": 105,
   "id": "e8ec4d7c-41be-4c9d-a08e-8535832b04e5",
   "metadata": {},
   "outputs": [
    {
     "data": {
      "text/plain": [
       "array([4, 5, 6, 7, 8, 9])"
      ]
     },
     "execution_count": 105,
     "metadata": {},
     "output_type": "execute_result"
    }
   ],
   "source": [
    "array_kosul[array_kosul>3]"
   ]
  },
  {
   "cell_type": "code",
   "execution_count": 106,
   "id": "c746cf36-365c-40f8-967b-c5ade3d8b155",
   "metadata": {},
   "outputs": [
    {
     "data": {
      "text/plain": [
       "array([ 0,  2,  4,  6,  8, 10, 12, 14, 16, 18])"
      ]
     },
     "execution_count": 106,
     "metadata": {},
     "output_type": "execute_result"
    }
   ],
   "source": [
    "array_kosul*2"
   ]
  },
  {
   "cell_type": "code",
   "execution_count": 107,
   "id": "4d7100ce-0297-4277-a0a2-8025e3cf5b8a",
   "metadata": {},
   "outputs": [
    {
     "data": {
      "text/plain": [
       "array([0, 1, 2, 3, 4, 5, 6, 7, 8, 9])"
      ]
     },
     "execution_count": 107,
     "metadata": {},
     "output_type": "execute_result"
    }
   ],
   "source": [
    "array_kosul"
   ]
  },
  {
   "cell_type": "code",
   "execution_count": null,
   "id": "b393fa8a-87d3-4897-9ab9-32340d6cf807",
   "metadata": {},
   "outputs": [],
   "source": []
  }
 ],
 "metadata": {
  "kernelspec": {
   "display_name": "Python 3 (ipykernel)",
   "language": "python",
   "name": "python3"
  },
  "language_info": {
   "codemirror_mode": {
    "name": "ipython",
    "version": 3
   },
   "file_extension": ".py",
   "mimetype": "text/x-python",
   "name": "python",
   "nbconvert_exporter": "python",
   "pygments_lexer": "ipython3",
   "version": "3.9.13"
  }
 },
 "nbformat": 4,
 "nbformat_minor": 5
}
